{
 "cells": [
  {
   "cell_type": "markdown",
   "metadata": {},
   "source": [
    "# SI 618 Fall 2019 Homework 2 (100 points)"
   ]
  },
  {
   "cell_type": "markdown",
   "metadata": {},
   "source": [
    "## Part 1 (75 points) "
   ]
  },
  {
   "cell_type": "markdown",
   "metadata": {},
   "source": [
    "The provided ‘movie_actors_data.txt’ file contains a JSON string on each line. For example, the first line is: \n",
    "\n",
    ">{\"rating\": 9.3, \"genres\": [\"Crime\", \"Drama\"], \"rated\": \"R\", \"filming_locations\": \"Ashland, Ohio, USA\", \"language\": [\"English\"], \"title\": \"The Shawshank Redemption\", \"runtime\": [\"142 min\"], \"poster\": \"http://img3.douban.com/lpic/s1311361.jpg\", \"imdb_url\": \"http://www.imdb.com/title/tt0111161/\", \"writers\": [\"Stephen King\", \"Frank Darabont\"], \"imdb_id\": \"tt0111161\", \"directors\": [\"Frank Darabont\"], \"rating_count\": 894012, \"actors\": [\"Tim Robbins\", \"Morgan Freeman\", \"Bob Gunton\", \"William Sadler\", \"Clancy Brown\", \"Gil Bellows\", \"Mark Rolston\", \"James Whitmore\", \"Jeffrey DeMunn\", \"Larry Brandenburg\", \"Neil Giuntoli\", \"Brian Libby\", \"David Proval\", \"Joseph Ragno\", \"Jude Ciccolella\"], \"plot_simple\": \"Two imprisoned men bond over a number of years, finding solace and eventual redemption through acts of common decency.\", \"year\": 1994, \"country\": [\"USA\"], \"type\": \"M\", \"release_date\": 19941014, \"also_known_as\": [\"Die Verurteilten\"]}\n",
    "\n",
    "The fields we are interested in are imdb_id , title , rating, genres, actors, and year. You will parse the JSON strings, and load the data into three tables in SQLite, and then write SQL queries to retrieve the data specified. \n",
    "\n",
    "You will create three tables: \n",
    "* The “movie_genre” table, which has two columns: imdb_id and genre. A movie typically has multiple genres, and in this case, there should be one row for each genre. If some movie does not have any genre, ignore that movie.  ",
    "\n",
    "* The “movies” table, which has four columns: imdb_id, title, year, rating, country  ",
    "\n",
    "* The “movie_actor” table, which has two columns imdb_id and actor. A movie typically has  ",
    "multiple actors, and in this case, there should be one row for each actor. \n",
    "\n",
    "**When you run your Python code, it should print out EXACTLY the output provided.**"
   ]
  },
  {
   "cell_type": "markdown",
   "metadata": {},
   "source": [
    "#### Q1. (10 points) Parse input file to get needed data for the three tables and load them into appropriate Python data structure. "
   ]
  },
  {
   "cell_type": "code",
   "execution_count": 53,
   "metadata": {},
   "outputs": [],
   "source": [
    "import json\n",
    "import sqlite3\n",
    "data = []\n",
    "with open('movie_actors_data.txt') as f:\n",
    "    for line in f.readlines():\n",
    "        data.append({k: json.loads(line)[k] for k in ['imdb_id','genres','title', 'year', 'rating', 'country','actors']})"
   ]
  },
  {
   "cell_type": "markdown",
   "metadata": {},
   "source": [
    "#### Q2. (5 points) Create the movie_genre table and load data into it."
   ]
  },
  {
   "cell_type": "code",
   "execution_count": 54,
   "metadata": {},
   "outputs": [],
   "source": [
    "conn = sqlite3.connect('theoliao_si618_hw2.db')\n",
    "c = conn.cursor()\n",
    "c.execute('CREATE TABLE movie_genre (imdb_id text,genre text)')\n",
    "rows_movie_genre = [(d['imdb_id'],g) for d in data for g in d['genres']]\n",
    "c.executemany('INSERT INTO movie_genre VALUES (?,?)',rows_movie_genre)\n",
    "conn.commit()"
   ]
  },
  {
   "cell_type": "markdown",
   "metadata": {},
   "source": [
    "#### Q3. (5 points) Create the movies table and load data into it."
   ]
  },
  {
   "cell_type": "code",
   "execution_count": 55,
   "metadata": {},
   "outputs": [],
   "source": [
    "c.execute('CREATE TABLE movies (imdb_id text,title text,year integer,rating real,country text)')\n",
    "rows_movies = [(d['imdb_id'],d['title'],d['year'],d['rating'],d['country'][0]) for d in data]\n",
    "c.executemany('INSERT INTO movies VALUES (?,?,?,?,?)',rows_movies)\n",
    "conn.commit()"
   ]
  },
  {
   "cell_type": "markdown",
   "metadata": {},
   "source": [
    "#### Q4. (5 points) Create the movie_actor table and load data into it."
   ]
  },
  {
   "cell_type": "code",
   "execution_count": 56,
   "metadata": {},
   "outputs": [],
   "source": [
    "c.execute('CREATE TABLE movie_actor (imdb_id text,actor text)')\n",
    "rows_movie_actor = [(d['imdb_id'],a) for d in data for a in d['actors']]\n",
    "c.executemany('INSERT INTO movie_actor VALUES (?,?)',rows_movie_actor)\n",
    "conn.commit()"
   ]
  },
  {
   "cell_type": "markdown",
   "metadata": {},
   "source": [
    "#### Q5. (10 points) Write an SQL query to find top 10 genres with largest number of movies in that genre and print out the results.\n",
    "```\n",
    "Top 10 genres:Genre, Movies   \n",
    "Drama,166 \n",
    "Thriller,66  \n",
    "Crime,60  \n",
    "Adventure,56  \n",
    "Mystery,42  \n",
    "Comedy,41  \n",
    "Action,40  \n",
    "Romance,35  \n",
    "Fantasy,30  \n",
    "War,29\n",
    "```"
   ]
  },
  {
   "cell_type": "code",
   "execution_count": 57,
   "metadata": {},
   "outputs": [
    {
     "name": "stdout",
     "output_type": "stream",
     "text": [
      "Top 10 genres:Genre, Movies\n",
      "Drama,166\n",
      "Thriller,66\n",
      "Crime,60\n",
      "Adventure,56\n",
      "Mystery,42\n",
      "Comedy,41\n",
      "Action,40\n",
      "Romance,35\n",
      "Fantasy,30\n",
      "War,29\n"
     ]
    }
   ],
   "source": [
    "results = c.execute('SELECT genre, Count(*) FROM movie_genre GROUP BY genre ORDER BY Count(*) DESC LIMIT 10')\n",
    "print(\"Top 10 genres:Genre, Movies\") \n",
    "for row in results:\n",
    "    print(row[0]+','+repr(row[1]))"
   ]
  },
  {
   "cell_type": "markdown",
   "metadata": {},
   "source": [
    "#### Q6. (10 points) Write an SQL query to find the number of movies broken down by year in chronological order.\n",
    "```\n",
    "Movies broken down by year:Year, Movies\n",
    "1921, 1\n",
    "1922, 1\n",
    "1925, 1\n",
    "1926, 1\n",
    "1927, 1\n",
    "1930, 1\n",
    "1931, 2\n",
    "1934, 1\n",
    "1936, 1\n",
    "1939, 3\n",
    "1940, 3\n",
    "1941, 2\n",
    "1942, 1\n",
    "1943, 1\n",
    "1944, 2\n",
    "1946, 3\n",
    "1948, 3\n",
    "1949, 1\n",
    "1950, 4\n",
    "1951, 2\n",
    "1952, 2\n",
    "1953, 2\n",
    "1954, 5\n",
    "1955, 1\n",
    "1956, 1\n",
    "1957, 6\n",
    "1958, 2\n",
    "1959, 5\n",
    "1960, 2\n",
    "1961, 2\n",
    "1962, 4\n",
    "1963, 2\n",
    "1964, 2\n",
    "1965, 1\n",
    "1966, 3\n",
    "1967, 2\n",
    "1968, 3\n",
    "1969, 2\n",
    "1971, 1\n",
    "1972, 2\n",
    "1973, 3\n",
    "1974, 2\n",
    "1975, 5\n",
    "1976, 3\n",
    "1977, 2\n",
    "1978, 1\n",
    "1979, 5\n",
    "1980, 3\n",
    "1981, 2\n",
    "1982, 3\n",
    "1983, 1\n",
    "1984, 3\n",
    "1985, 2\n",
    "1986, 3\n",
    "1987, 3\n",
    "1988, 5\n",
    "1989, 1\n",
    "1990, 1\n",
    "1991, 3\n",
    "1992, 2\n",
    "1993, 4\n",
    "1994, 5\n",
    "1995, 8\n",
    "1996, 2\n",
    "1997, 3\n",
    "1998, 5\n",
    "1999, 5\n",
    "2000, 5\n",
    "2001, 5\n",
    "2002, 5\n",
    "2003, 9\n",
    "2004, 5\n",
    "2005, 3\n",
    "2006, 4\n",
    "2007, 7\n",
    "2008, 7\n",
    "2009, 7\n",
    "2010, 7\n",
    "2011, 6\n",
    "2012, 8\n",
    "```"
   ]
  },
  {
   "cell_type": "code",
   "execution_count": 58,
   "metadata": {},
   "outputs": [
    {
     "name": "stdout",
     "output_type": "stream",
     "text": [
      "Movies broken down by year:Year, Movies\n",
      "1921, 1\n",
      "1922, 1\n",
      "1925, 1\n",
      "1926, 1\n",
      "1927, 1\n",
      "1930, 1\n",
      "1931, 2\n",
      "1934, 1\n",
      "1936, 1\n",
      "1939, 3\n",
      "1940, 3\n",
      "1941, 2\n",
      "1942, 1\n",
      "1943, 1\n",
      "1944, 2\n",
      "1946, 3\n",
      "1948, 3\n",
      "1949, 1\n",
      "1950, 4\n",
      "1951, 2\n",
      "1952, 2\n",
      "1953, 2\n",
      "1954, 5\n",
      "1955, 1\n",
      "1956, 1\n",
      "1957, 6\n",
      "1958, 2\n",
      "1959, 5\n",
      "1960, 2\n",
      "1961, 2\n",
      "1962, 4\n",
      "1963, 2\n",
      "1964, 2\n",
      "1965, 1\n",
      "1966, 3\n",
      "1967, 2\n",
      "1968, 3\n",
      "1969, 2\n",
      "1971, 1\n",
      "1972, 2\n",
      "1973, 3\n",
      "1974, 2\n",
      "1975, 5\n",
      "1976, 3\n",
      "1977, 2\n",
      "1978, 1\n",
      "1979, 5\n",
      "1980, 3\n",
      "1981, 2\n",
      "1982, 3\n",
      "1983, 1\n",
      "1984, 3\n",
      "1985, 2\n",
      "1986, 3\n",
      "1987, 3\n",
      "1988, 5\n",
      "1989, 1\n",
      "1990, 1\n",
      "1991, 3\n",
      "1992, 2\n",
      "1993, 4\n",
      "1994, 5\n",
      "1995, 8\n",
      "1996, 2\n",
      "1997, 3\n",
      "1998, 5\n",
      "1999, 5\n",
      "2000, 5\n",
      "2001, 5\n",
      "2002, 5\n",
      "2003, 9\n",
      "2004, 5\n",
      "2005, 3\n",
      "2006, 4\n",
      "2007, 7\n",
      "2008, 7\n",
      "2009, 7\n",
      "2010, 7\n",
      "2011, 6\n",
      "2012, 8\n"
     ]
    }
   ],
   "source": [
    "results = c.execute('SELECT year, Count(*) FROM movies GROUP BY year ORDER BY year')\n",
    "print(\"Movies broken down by year:Year, Movies\") \n",
    "for row in results:\n",
    "    print(repr(row[0])+', '+repr(row[1]))"
   ]
  },
  {
   "cell_type": "markdown",
   "metadata": {},
   "source": [
    "#### Q7. (10 points) Write an SQL query to find all Sci-Fi movies from the U.S. ordered by increasing rating, then by decreasing year if ratings are the same.\n",
    "\n",
    "```\n",
    "Sci-Fi movies:Title, Year, Rating\n",
    "District 9, 2009, 8.0\n",
    "Star Trek, 2009, 8.0\n",
    "The Truman Show, 1998, 8.0\n",
    "Jurassic Park, 1993, 8.0\n",
    "Twelve Monkeys, 1995, 8.1\n",
    "Donnie Darko, 2001, 8.2\n",
    "The Thing, 1982, 8.2\n",
    "Blade Runner, 1982, 8.3\n",
    "Eternal Sunshine of the Spotless Mind, 2004, 8.4\n",
    "Star Wars: Episode VI - Return of the Jedi, 2002, 8.4\n",
    "2001: A Space Odyssey, 1968, 8.4\n",
    "WALL·E, 2008, 8.5\n",
    "Aliens, 1986, 8.5\n",
    "Back to the Future, 1985, 8.5\n",
    "Alien, 1979, 8.5\n",
    "Terminator 2: Judgment Day, 1991, 8.6\n",
    "The Matrix, 1999, 8.7\n",
    "Inception, 2010, 8.8\n",
    "Star Wars: Episode V - The Empire Strikes Back, 2008, 8.8\n",
    "Star Wars, 1977, 8.8\n",
    "```"
   ]
  },
  {
   "cell_type": "code",
   "execution_count": 59,
   "metadata": {},
   "outputs": [
    {
     "name": "stdout",
     "output_type": "stream",
     "text": [
      "Sci-Fi movies:Title, Year, Rating\n",
      "District 9, 2009, 8.0\n",
      "Star Trek, 2009, 8.0\n",
      "The Truman Show, 1998, 8.0\n",
      "Jurassic Park, 1993, 8.0\n",
      "Twelve Monkeys, 1995, 8.1\n",
      "The Terminator, 1984, 8.1\n",
      "Stalker, 1979, 8.1\n",
      "Donnie Darko, 2001, 8.2\n",
      "The Thing, 1982, 8.2\n",
      "Blade Runner, 1982, 8.3\n",
      "Eternal Sunshine of the Spotless Mind, 2004, 8.4\n",
      "Star Wars: Episode VI - Return of the Jedi, 2002, 8.4\n",
      "2001: A Space Odyssey, 1968, 8.4\n",
      "Metropolis, 1927, 8.4\n",
      "WALL·E, 2008, 8.5\n",
      "Aliens, 1986, 8.5\n",
      "Back to the Future, 1985, 8.5\n",
      "Alien, 1979, 8.5\n",
      "A Clockwork Orange, 1971, 8.5\n",
      "Terminator 2: Judgment Day, 1991, 8.6\n",
      "The Matrix, 1999, 8.7\n",
      "Inception, 2010, 8.8\n",
      "Star Wars: Episode V - The Empire Strikes Back, 2008, 8.8\n",
      "Star Wars, 1977, 8.8\n"
     ]
    }
   ],
   "source": [
    "results = c.execute('SELECT Title, Year, Rating FROM movies WHERE imdb_id IN (SELECT imdb_id FROM movie_genre WHERE genre IS \"Sci-Fi\") ORDER BY rating, year DESC')\n",
    "print(\"Sci-Fi movies:Title, Year, Rating\") \n",
    "for row in results:\n",
    "    print(row[0]+', '+repr(row[1])+', '+repr(row[2]))"
   ]
  },
  {
   "cell_type": "markdown",
   "metadata": {},
   "source": [
    "#### Q8. (10 points) Write an SQL query to find the top 10 pickiest actors who played in the highest rated movies (on average) in and after year 2000. \n",
    "For each actor, give their name, average rating of the movies they played in, and the number of movies. Sort the result from pickest (highest rating) to the least picky. In case of ties, sort the rows by actor name.\n",
    "\n",
    "```\n",
    "In and after year 2000, top 10 pickiest actors who played in the highest rated movies: Actor, Movies\n",
    "Aaron Eckhart, 1, 9.0\n",
    "Anthony Michael Hall, 1, 9.0\n",
    "Chin Han, 1, 9.0\n",
    "Eric Roberts, 1, 9.0\n",
    "Heath Ledger, 1, 9.0\n",
    "Monique Gabriela Curnen, 1, 9.0\n",
    "Nestor Carbonell, 1, 9.0\n",
    "Ritchie Coster, 1, 9.0\n",
    "Ron Dean, 1, 9.0\n",
    "Alexandra Astin, 1, 8.9\n",
    "```\n",
    "\n"
   ]
  },
  {
   "cell_type": "code",
   "execution_count": 60,
   "metadata": {},
   "outputs": [
    {
     "name": "stdout",
     "output_type": "stream",
     "text": [
      "In and after year 2000, top 10 pickiest actors who played in the highest rated movies: Actor, Movies\n",
      "Aaron Eckhart, 1, 9.0\n",
      "Anthony Michael Hall, 1, 9.0\n",
      "Chin Han, 1, 9.0\n",
      "Eric Roberts, 1, 9.0\n",
      "Heath Ledger, 1, 9.0\n",
      "Monique Gabriela Curnen, 1, 9.0\n",
      "Nestor Carbonell, 1, 9.0\n",
      "Ritchie Coster, 1, 9.0\n",
      "Ron Dean, 1, 9.0\n",
      "Alexandra Astin, 1, 8.9\n"
     ]
    }
   ],
   "source": [
    "results = c.execute('''SELECT actor, COUNT(*), Avg(rating)  FROM\n",
    "(SELECT m_a.actor,m.rating FROM movie_actor AS m_a LEFT JOIN movies AS m ON m_a.imdb_id = m.imdb_id WHERE m.year >=2000 ORDER BY actor) \n",
    "GROUP BY actor ORDER BY Avg(rating) DESC LIMIT 10\n",
    "''')\n",
    "print(\"In and after year 2000, top 10 pickiest actors who played in the highest rated movies: Actor, Movies\") \n",
    "for row in results:\n",
    "    print(row[0]+', '+repr(row[1])+', '+repr(row[2]))"
   ]
  },
  {
   "cell_type": "markdown",
   "metadata": {},
   "source": [
    "#### Q9. (10 points) Write an SQL query for finding pairs of actors who co-starred in at least 2 highly rated (rating > 9) movies together. \n",
    "\n",
    "The pairs of names must be unique. This means that ‘actor A, actor B’ and ‘actor B, actor A’ are the same pair, so only one of them should appear. For each pair of actors you print out, the two actors must be ordered alphabetically. The pairs are ordered in decreasing number of movies they co-stared in. In case of ties, the rows are ordered by actors’ names. \n",
    "\n",
    ">You will need to join the movie_actor table with itself to get this data (in addition to another required join). It is a bit tricky. If you cannot do it with SQL statement, you can also write some Python code that works on the Python data structure that you used to create the movie_actor table. That’ll mean much more lines of code, and if you do it that way, you’ll get 5 points instead of 10 points. You will only get 10 points if you solve it with pure SQL.\n",
    "\n",
    "```\n",
    "Pairs of actors who co-stared in 2 or more highly rated movies: Actor A, Actor B, Co-stared Movies\n",
    "Al Pacino, Diane Keaton, 2\n",
    "Al Pacino, John Cazale, 2\n",
    "Al Pacino, Robert Duvall, 2\n",
    "Al Pacino, Talia Shire, 2\n",
    "Diane Keaton, John Cazale, 2\n",
    "Diane Keaton, Robert Duvall, 2\n",
    "Diane Keaton, Talia Shire, 2\n",
    "John Cazale, Robert Duvall, 2\n",
    "John Cazale, Talia Shire, 2\n",
    "Robert Duvall, Talia Shire, 2\n",
    "```"
   ]
  },
  {
   "cell_type": "code",
   "execution_count": 61,
   "metadata": {},
   "outputs": [
    {
     "name": "stdout",
     "output_type": "stream",
     "text": [
      "Pairs of actors who co-stared in 2 or more highly rated movies: Actor A, Actor B, Co-stared Movies\n",
      "Al Pacino, Diane Keaton, 2\n",
      "Al Pacino, John Cazale, 2\n",
      "Al Pacino, Robert Duvall, 2\n",
      "Al Pacino, Talia Shire, 2\n",
      "Diane Keaton, John Cazale, 2\n",
      "Diane Keaton, Robert Duvall, 2\n",
      "Diane Keaton, Talia Shire, 2\n",
      "John Cazale, Robert Duvall, 2\n",
      "John Cazale, Talia Shire, 2\n",
      "Robert Duvall, Talia Shire, 2\n"
     ]
    }
   ],
   "source": [
    "results = c.execute('''SELECT m_a.actor1,m_a.actor2,COUNT(*) FROM\n",
    "(SELECT a.imdb_id, a.actor AS actor1, b.actor AS actor2 FROM movie_actor a, movie_actor b WHERE a.imdb_id = b.imdb_id AND a.actor < b.actor) AS m_a\n",
    "LEFT JOIN movies AS m ON m_a.imdb_id = m.imdb_id WHERE m.rating > 9 GROUP BY actor1, actor2 HAVING COUNT(*) >= 2 ORDER BY m_a.actor1, m_a.actor2, COUNT(*) DESC\n",
    "''')\n",
    "print(\"Pairs of actors who co-stared in 2 or more highly rated movies: Actor A, Actor B, Co-stared Movies\") \n",
    "for row in results:\n",
    "    print(row[0]+', '+row[1]+', '+repr(row[2]))\n",
    "conn.close()"
   ]
  },
  {
   "cell_type": "markdown",
   "metadata": {},
   "source": [
    "## Part 2 (25 points) "
   ]
  },
  {
   "cell_type": "markdown",
   "metadata": {},
   "source": [
    "Write a python function that takes two arguments: genre and k \n",
    "\n",
    "The function should print out the top k actors who played roles in the highest rated movies (on average) in the provided genre. You should use the sqlite3 database file you created in Part 1. Some example runs of my function are shown below. Your program should produce the same output when provided with the same command line arguments.\n",
    "\n",
    "`get_top_genre_actors(\"Drama\", 5)`\n",
    "```\n",
    "Top 5 actors who played in highest rated Drama movies:\n",
    "Actor, Average Drama movie rating\n",
    "Bob Gunton, 9.3\n",
    "Brian Libby, 9.3\n",
    "Clancy Brown, 9.3\n",
    "David Proval, 9.3\n",
    "Gil Bellows, 9.3\n",
    "```\n",
    "\n",
    "`get_top_genre_actors(\"Comedy\", 10)`\n",
    "```\n",
    "Top 10 actors who played in highest rated Comedy movies:\n",
    "Actor, Average Comedy movie rating\n",
    "Al Ernest Garcia, 8.6\n",
    "Alba Gaïa Kraghede Bellugi, 8.6\n",
    "Anne Le Ny, 8.6\n",
    "Audrey Fleurot, 8.6\n",
    "Cecil Reynolds, 8.6\n",
    "Christian Ameri, 8.6\n",
    "Cyril Mendy, 8.6\n",
    "Dominique Daguier, 8.6\n",
    "Dorothée Brière, 8.6\n",
    "Edward LeSaint, 8.6\n",
    "```\n",
    "\n",
    "\n",
    "`get_top_genre_actors(\"Drama\", 10)`\n",
    "```\n",
    "Top 10 actors who played in highest rated Drama movies:\n",
    "Actor, Average Drama movie rating\n",
    "Bob Gunton, 9.3\n",
    "Brian Libby, 9.3\n",
    "Clancy Brown, 9.3\n",
    "David Proval, 9.3\n",
    "Gil Bellows, 9.3\n",
    "James Whitmore, 9.3\n",
    "Joseph Ragno, 9.3\n",
    "Larry Brandenburg, 9.3\n",
    "Mark Rolston, 9.3\n",
    "Neil Giuntoli, 9.3\n",
    "```"
   ]
  },
  {
   "cell_type": "code",
   "execution_count": 62,
   "metadata": {},
   "outputs": [],
   "source": [
    "def get_top_genre_actors(genre, number):\n",
    "    conn = sqlite3.connect('theoliao_si618_hw2.db')\n",
    "    c = conn.cursor()\n",
    "    results = c.execute('''SELECT t.actor, AVG(m.rating) FROM\n",
    "(SELECT imdb_id, actor FROM movie_actor WHERE imdb_id IN\n",
    "(SELECT imdb_id FROM movie_genre WHERE genre IS ?)) AS t LEFT JOIN movies AS m ON t.imdb_id = m.imdb_id GROUP BY t.actor \n",
    "ORDER BY AVG(m.rating) DESC, t.actor\n",
    "LIMIT ?''',(genre,number))\n",
    "    print('Top {num} actors who played in highest rated {gen} movies:'.format(num = number,gen = genre)) \n",
    "    for row in results:\n",
    "        print(row[0] +', '+ repr(row[1]))\n",
    "    conn.close()"
   ]
  },
  {
   "cell_type": "code",
   "execution_count": 63,
   "metadata": {},
   "outputs": [
    {
     "name": "stdout",
     "output_type": "stream",
     "text": [
      "Top 5 actors who played in highest rated Drama movies:\n",
      "Bob Gunton, 9.3\n",
      "Brian Libby, 9.3\n",
      "Clancy Brown, 9.3\n",
      "David Proval, 9.3\n",
      "Gil Bellows, 9.3\n"
     ]
    }
   ],
   "source": [
    "get_top_genre_actors(\"Drama\", 5)"
   ]
  },
  {
   "cell_type": "code",
   "execution_count": 64,
   "metadata": {},
   "outputs": [
    {
     "name": "stdout",
     "output_type": "stream",
     "text": [
      "Top 10 actors who played in highest rated Comedy movies:\n",
      "Al Ernest Garcia, 8.6\n",
      "Alba Gaïa Kraghede Bellugi, 8.6\n",
      "Anne Le Ny, 8.6\n",
      "Audrey Fleurot, 8.6\n",
      "Cecil Reynolds, 8.6\n",
      "Christian Ameri, 8.6\n",
      "Cyril Mendy, 8.6\n",
      "Dominique Daguier, 8.6\n",
      "Dorothée Brière, 8.6\n",
      "Edward LeSaint, 8.6\n"
     ]
    }
   ],
   "source": [
    "get_top_genre_actors(\"Comedy\", 10)"
   ]
  },
  {
   "cell_type": "code",
   "execution_count": 65,
   "metadata": {},
   "outputs": [
    {
     "name": "stdout",
     "output_type": "stream",
     "text": [
      "Top 10 actors who played in highest rated Drama movies:\n",
      "Bob Gunton, 9.3\n",
      "Brian Libby, 9.3\n",
      "Clancy Brown, 9.3\n",
      "David Proval, 9.3\n",
      "Gil Bellows, 9.3\n",
      "James Whitmore, 9.3\n",
      "Joseph Ragno, 9.3\n",
      "Larry Brandenburg, 9.3\n",
      "Mark Rolston, 9.3\n",
      "Neil Giuntoli, 9.3\n"
     ]
    }
   ],
   "source": [
    "get_top_genre_actors(\"Drama\", 10)"
   ]
  },
  {
   "cell_type": "markdown",
   "metadata": {},
   "source": [
    "## What to submit: \n",
    "Please perform the following operations and turn in the corresponding files to canvas:\n",
    "1. Jupyter notebook titled uniqname_si618_hw2.ipynb and the corresponding html page (uniqname_si618_hw2.html) \n",
    "through Canvas.\n",
    "2. The sqlite database file you created. (uniqname_si618_hw2.db)"
   ]
  }
 ],
 "metadata": {
  "kernelspec": {
   "display_name": "Python 3",
   "language": "python",
   "name": "python3"
  },
  "language_info": {
   "codemirror_mode": {
    "name": "ipython",
    "version": 3
   },
   "file_extension": ".py",
   "mimetype": "text/x-python",
   "name": "python",
   "nbconvert_exporter": "python",
   "pygments_lexer": "ipython3",
   "version": "3.7.3"
  }
 },
 "nbformat": 4,
 "nbformat_minor": 2
}
